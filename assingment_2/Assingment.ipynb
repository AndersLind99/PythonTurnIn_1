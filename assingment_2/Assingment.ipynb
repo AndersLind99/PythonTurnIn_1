{
 "cells": [
  {
   "cell_type": "markdown",
   "metadata": {},
   "source": [
    "\"MOBILOS\n",
    "\n",
    "1. Webscrape mobiltelefonernes navne og priser fra Komplett.dk\n",
    "https://www.komplett.dk/category/21064/mobil/mobiltelefoner\n",
    "\n",
    "2. Plot gennemsnitpriserne på Samsung og Iphone i et bar-graf eller linjediagram\n",
    "\n",
    "3. Webscrape mobiltelefonernes navne og priser fra Telia.dk\n",
    "https://www.telia.dk/privat/webshop/mobiler/?page=4\n",
    "\n",
    "3.a Sammenlign mobilernes priser fra begge butikker og plot dem.\""
   ]
  },
  {
   "cell_type": "code",
   "execution_count": 1,
   "metadata": {},
   "outputs": [
    {
     "name": "stdout",
     "output_type": "stream",
     "text": [
      "4.1.3\n"
     ]
    }
   ],
   "source": [
    "import selenium\n",
    "print(selenium.__version__)"
   ]
  },
  {
   "cell_type": "code",
   "execution_count": 3,
   "metadata": {},
   "outputs": [],
   "source": [
    "from selenium import webdriver\n",
    "from selenium.webdriver.common.keys import Keys\n",
    "from selenium.webdriver.chrome.options import Options\n",
    "from selenium.webdriver.common.by import By\n",
    "from selenium.webdriver.support.ui import WebDriverWait\n",
    "from selenium.webdriver.support import expected_conditions as EC\n",
    "import json\n",
    "\n",
    "import time\n",
    "\n",
    "options = Options()\n",
    "options.headless = False\n"
   ]
  },
  {
   "cell_type": "code",
   "execution_count": 4,
   "metadata": {},
   "outputs": [
    {
     "ename": "WebDriverException",
     "evalue": "Message: 'chromedriver' executable needs to be in PATH. Please see https://sites.google.com/a/chromium.org/chromedriver/home\n",
     "output_type": "error",
     "traceback": [
      "\u001b[0;31m---------------------------------------------------------------------------\u001b[0m",
      "\u001b[0;31mFileNotFoundError\u001b[0m                         Traceback (most recent call last)",
      "\u001b[0;32m/opt/conda/lib/python3.7/site-packages/selenium/webdriver/common/service.py\u001b[0m in \u001b[0;36mstart\u001b[0;34m(self)\u001b[0m\n\u001b[1;32m     75\u001b[0m                                             \u001b[0mstderr\u001b[0m\u001b[0;34m=\u001b[0m\u001b[0mself\u001b[0m\u001b[0;34m.\u001b[0m\u001b[0mlog_file\u001b[0m\u001b[0;34m,\u001b[0m\u001b[0;34m\u001b[0m\u001b[0;34m\u001b[0m\u001b[0m\n\u001b[0;32m---> 76\u001b[0;31m                                             stdin=PIPE)\n\u001b[0m\u001b[1;32m     77\u001b[0m         \u001b[0;32mexcept\u001b[0m \u001b[0mTypeError\u001b[0m\u001b[0;34m:\u001b[0m\u001b[0;34m\u001b[0m\u001b[0;34m\u001b[0m\u001b[0m\n",
      "\u001b[0;32m/opt/conda/lib/python3.7/subprocess.py\u001b[0m in \u001b[0;36m__init__\u001b[0;34m(self, args, bufsize, executable, stdin, stdout, stderr, preexec_fn, close_fds, shell, cwd, env, universal_newlines, startupinfo, creationflags, restore_signals, start_new_session, pass_fds, encoding, errors, text)\u001b[0m\n\u001b[1;32m    799\u001b[0m                                 \u001b[0merrread\u001b[0m\u001b[0;34m,\u001b[0m \u001b[0merrwrite\u001b[0m\u001b[0;34m,\u001b[0m\u001b[0;34m\u001b[0m\u001b[0;34m\u001b[0m\u001b[0m\n\u001b[0;32m--> 800\u001b[0;31m                                 restore_signals, start_new_session)\n\u001b[0m\u001b[1;32m    801\u001b[0m         \u001b[0;32mexcept\u001b[0m\u001b[0;34m:\u001b[0m\u001b[0;34m\u001b[0m\u001b[0;34m\u001b[0m\u001b[0m\n",
      "\u001b[0;32m/opt/conda/lib/python3.7/subprocess.py\u001b[0m in \u001b[0;36m_execute_child\u001b[0;34m(self, args, executable, preexec_fn, close_fds, pass_fds, cwd, env, startupinfo, creationflags, shell, p2cread, p2cwrite, c2pread, c2pwrite, errread, errwrite, restore_signals, start_new_session)\u001b[0m\n\u001b[1;32m   1550\u001b[0m                             \u001b[0merr_msg\u001b[0m \u001b[0;34m+=\u001b[0m \u001b[0;34m': '\u001b[0m \u001b[0;34m+\u001b[0m \u001b[0mrepr\u001b[0m\u001b[0;34m(\u001b[0m\u001b[0merr_filename\u001b[0m\u001b[0;34m)\u001b[0m\u001b[0;34m\u001b[0m\u001b[0;34m\u001b[0m\u001b[0m\n\u001b[0;32m-> 1551\u001b[0;31m                     \u001b[0;32mraise\u001b[0m \u001b[0mchild_exception_type\u001b[0m\u001b[0;34m(\u001b[0m\u001b[0merrno_num\u001b[0m\u001b[0;34m,\u001b[0m \u001b[0merr_msg\u001b[0m\u001b[0;34m,\u001b[0m \u001b[0merr_filename\u001b[0m\u001b[0;34m)\u001b[0m\u001b[0;34m\u001b[0m\u001b[0;34m\u001b[0m\u001b[0m\n\u001b[0m\u001b[1;32m   1552\u001b[0m                 \u001b[0;32mraise\u001b[0m \u001b[0mchild_exception_type\u001b[0m\u001b[0;34m(\u001b[0m\u001b[0merr_msg\u001b[0m\u001b[0;34m)\u001b[0m\u001b[0;34m\u001b[0m\u001b[0;34m\u001b[0m\u001b[0m\n",
      "\u001b[0;31mFileNotFoundError\u001b[0m: [Errno 2] No such file or directory: 'chromedriver': 'chromedriver'",
      "\nDuring handling of the above exception, another exception occurred:\n",
      "\u001b[0;31mWebDriverException\u001b[0m                        Traceback (most recent call last)",
      "\u001b[0;32m<ipython-input-4-ccd03b60b9f1>\u001b[0m in \u001b[0;36m<module>\u001b[0;34m\u001b[0m\n\u001b[1;32m      3\u001b[0m \u001b[0;34m\u001b[0m\u001b[0m\n\u001b[1;32m      4\u001b[0m \u001b[0;31m# Test to see if selenium works and can grab the title form the site\u001b[0m\u001b[0;34m\u001b[0m\u001b[0;34m\u001b[0m\u001b[0;34m\u001b[0m\u001b[0m\n\u001b[0;32m----> 5\u001b[0;31m \u001b[0mbrowser\u001b[0m \u001b[0;34m=\u001b[0m \u001b[0mwebdriver\u001b[0m\u001b[0;34m.\u001b[0m\u001b[0mChrome\u001b[0m\u001b[0;34m(\u001b[0m\u001b[0moptions\u001b[0m\u001b[0;34m=\u001b[0m\u001b[0moptions\u001b[0m\u001b[0;34m)\u001b[0m\u001b[0;34m\u001b[0m\u001b[0;34m\u001b[0m\u001b[0m\n\u001b[0m\u001b[1;32m      6\u001b[0m \u001b[0mbrowser\u001b[0m\u001b[0;34m.\u001b[0m\u001b[0mget\u001b[0m\u001b[0;34m(\u001b[0m\u001b[0mkomplett_url\u001b[0m\u001b[0;34m)\u001b[0m\u001b[0;34m\u001b[0m\u001b[0;34m\u001b[0m\u001b[0m\n\u001b[1;32m      7\u001b[0m \u001b[0mprint\u001b[0m\u001b[0;34m(\u001b[0m\u001b[0mbrowser\u001b[0m\u001b[0;34m.\u001b[0m\u001b[0mtitle\u001b[0m\u001b[0;34m)\u001b[0m\u001b[0;34m\u001b[0m\u001b[0;34m\u001b[0m\u001b[0m\n",
      "\u001b[0;32m/opt/conda/lib/python3.7/site-packages/selenium/webdriver/chrome/webdriver.py\u001b[0m in \u001b[0;36m__init__\u001b[0;34m(self, executable_path, port, options, service_args, desired_capabilities, service_log_path, chrome_options, keep_alive)\u001b[0m\n\u001b[1;32m     71\u001b[0m             \u001b[0mservice_args\u001b[0m\u001b[0;34m=\u001b[0m\u001b[0mservice_args\u001b[0m\u001b[0;34m,\u001b[0m\u001b[0;34m\u001b[0m\u001b[0;34m\u001b[0m\u001b[0m\n\u001b[1;32m     72\u001b[0m             log_path=service_log_path)\n\u001b[0;32m---> 73\u001b[0;31m         \u001b[0mself\u001b[0m\u001b[0;34m.\u001b[0m\u001b[0mservice\u001b[0m\u001b[0;34m.\u001b[0m\u001b[0mstart\u001b[0m\u001b[0;34m(\u001b[0m\u001b[0;34m)\u001b[0m\u001b[0;34m\u001b[0m\u001b[0;34m\u001b[0m\u001b[0m\n\u001b[0m\u001b[1;32m     74\u001b[0m \u001b[0;34m\u001b[0m\u001b[0m\n\u001b[1;32m     75\u001b[0m         \u001b[0;32mtry\u001b[0m\u001b[0;34m:\u001b[0m\u001b[0;34m\u001b[0m\u001b[0;34m\u001b[0m\u001b[0m\n",
      "\u001b[0;32m/opt/conda/lib/python3.7/site-packages/selenium/webdriver/common/service.py\u001b[0m in \u001b[0;36mstart\u001b[0;34m(self)\u001b[0m\n\u001b[1;32m     81\u001b[0m                 raise WebDriverException(\n\u001b[1;32m     82\u001b[0m                     \"'%s' executable needs to be in PATH. %s\" % (\n\u001b[0;32m---> 83\u001b[0;31m                         os.path.basename(self.path), self.start_error_message)\n\u001b[0m\u001b[1;32m     84\u001b[0m                 )\n\u001b[1;32m     85\u001b[0m             \u001b[0;32melif\u001b[0m \u001b[0merr\u001b[0m\u001b[0;34m.\u001b[0m\u001b[0merrno\u001b[0m \u001b[0;34m==\u001b[0m \u001b[0merrno\u001b[0m\u001b[0;34m.\u001b[0m\u001b[0mEACCES\u001b[0m\u001b[0;34m:\u001b[0m\u001b[0;34m\u001b[0m\u001b[0;34m\u001b[0m\u001b[0m\n",
      "\u001b[0;31mWebDriverException\u001b[0m: Message: 'chromedriver' executable needs to be in PATH. Please see https://sites.google.com/a/chromium.org/chromedriver/home\n"
     ]
    }
   ],
   "source": [
    "komplett_url = 'https://www.komplett.dk/category/21064/mobil/mobiltelefoner'\n",
    "\n",
    "\n",
    "# Test to see if selenium works and can grab the title form the site\n",
    "browser = webdriver.Chrome(options=options)\n",
    "browser.get(komplett_url)\n",
    "print(browser.title)\n",
    "browser.quit()\n",
    "   "
   ]
  },
  {
   "cell_type": "code",
   "execution_count": 2,
   "metadata": {},
   "outputs": [
    {
     "ename": "NameError",
     "evalue": "name 'webdriver' is not defined",
     "output_type": "error",
     "traceback": [
      "\u001b[0;31m---------------------------------------------------------------------------\u001b[0m",
      "\u001b[0;31mNameError\u001b[0m                                 Traceback (most recent call last)",
      "\u001b[0;32m<ipython-input-2-aa83ded975be>\u001b[0m in \u001b[0;36m<module>\u001b[0;34m\u001b[0m\n\u001b[1;32m      1\u001b[0m \u001b[0mkomplett_url\u001b[0m \u001b[0;34m=\u001b[0m \u001b[0;34m\"https://www.komplett.dk/category/21064/mobil/mobiltelefoner?nlevel=10444%C2%A721064&hits=2000\"\u001b[0m\u001b[0;34m\u001b[0m\u001b[0;34m\u001b[0m\u001b[0m\n\u001b[1;32m      2\u001b[0m \u001b[0;34m\u001b[0m\u001b[0m\n\u001b[0;32m----> 3\u001b[0;31m \u001b[0mbrowser\u001b[0m \u001b[0;34m=\u001b[0m \u001b[0mwebdriver\u001b[0m\u001b[0;34m.\u001b[0m\u001b[0mChrome\u001b[0m\u001b[0;34m(\u001b[0m\u001b[0moptions\u001b[0m\u001b[0;34m=\u001b[0m\u001b[0moptions\u001b[0m\u001b[0;34m)\u001b[0m\u001b[0;34m\u001b[0m\u001b[0;34m\u001b[0m\u001b[0m\n\u001b[0m\u001b[1;32m      4\u001b[0m \u001b[0mbrowser\u001b[0m\u001b[0;34m.\u001b[0m\u001b[0mget\u001b[0m\u001b[0;34m(\u001b[0m\u001b[0mkomplett_url\u001b[0m\u001b[0;34m)\u001b[0m\u001b[0;34m\u001b[0m\u001b[0;34m\u001b[0m\u001b[0m\n\u001b[1;32m      5\u001b[0m \u001b[0mphoneList_komplett\u001b[0m \u001b[0;34m=\u001b[0m \u001b[0;34m[\u001b[0m\u001b[0;34m]\u001b[0m\u001b[0;34m\u001b[0m\u001b[0;34m\u001b[0m\u001b[0m\n",
      "\u001b[0;31mNameError\u001b[0m: name 'webdriver' is not defined"
     ]
    }
   ],
   "source": [
    "komplett_url = \"https://www.komplett.dk/category/21064/mobil/mobiltelefoner?nlevel=10444%C2%A721064&hits=2000\"\n",
    "\n",
    "browser = webdriver.Chrome(options=options)\n",
    "browser.get(komplett_url)\n",
    "phoneList_komplett = []\n",
    "\n",
    "try:\n",
    "    main = WebDriverWait(browser,30).until(\n",
    "        EC.presence_of_element_located((By.XPATH,'//*[@id=\"MainContent\"]/div/div[2]/div[5]'))\n",
    "    )\n",
    "    phones = main.find_elements(by=By.CLASS_NAME,value='product-list-item')\n",
    "    for phone in phones:\n",
    "        name = phone.find_element(by=By.TAG_NAME,value='h2')\n",
    "        price = phone.find_element(by=By.CLASS_NAME,value='product-price-now')\n",
    "        price = price.text\n",
    "        price = price.split(',-')\n",
    "        price = price[0].split('.')\n",
    "        price = ''.join(price)\n",
    "      \n",
    "        phoneList_komplett.append([name.text,float(price)])\n",
    "        \n",
    "    print(phoneList_komplett)\n",
    "    \n",
    "finally:\n",
    "    browser.quit()"
   ]
  },
  {
   "cell_type": "code",
   "execution_count": 1,
   "metadata": {},
   "outputs": [],
   "source": [
    "import numpy as np\n",
    "\n",
    "# 2. plot gennemsnit priser på iphone og samsung.\n",
    "\n",
    "\n"
   ]
  },
  {
   "cell_type": "code",
   "execution_count": 54,
   "metadata": {},
   "outputs": [
    {
     "name": "stdout",
     "output_type": "stream",
     "text": [
      "[['GALAXY S21 FE 5G', 6295.5], ['IPHONE 13 PRO', 8671.5], ['IPHONE SE 2022', 4711.5], ['IPHONE 13 PRO MAX', 9931.5], ['IPHONE 13', 7051.5], ['GALAXY A52S 5G', 2950.5], ['NORD CE 2 5G', 2950.5], ['IPHONE 13 MINI', 6331.5], ['GALAXY Z FLIP3 5G', 5647.5], ['9 PRO (8GB RAM)', 6151.5], ['GALAXY S22 ULTRA 5G', 9895.5], ['GALAXY S22 ULTRA 5G (12GB RAM)', 10615.5], ['GALAXY S22+ 5G', 8455.5], ['GALAXY S22 5G', 7015.5], ['GALAXY A53 5G', 4135.5], ['GALAXY Z FOLD3 5G', 13855.5], ['GALAXY S20 FE 5G', 5935.5], ['NORD 2 5G', 3991.504], ['XPERIA 1 III', 7735.5], ['MOTO E40', 2150.5], ['IPHONE 12', 6331.5], ['XPERIA 10 III', 3650.5], ['GALAXY S21 5G', 4351.5], ['GALAXY A32 5G', 2731.504], ['XPERIA 5 III', 6295.5], ['GALAXY S21 PLUS 5G', 5791.5], ['IPHONE 11', 5251.5], ['IPHONE 12 PRO', 9031.5], ['EDGE 20', 4495.5], ['IPHONE 12 PRO MAX 256GB', 10291.5], ['IPHONE 12 MINI', 5611.5], ['MOTO G100', 3451.504], ['WATCH 4 LITE', 830.5], ['GALAXY S20 FE', 5215.5], ['8 PRO (8GB RAM)', 5251.5], ['IPHONE 11 PRO', 6511.5], ['REDMI NOTE 11 PRO 5G', 3650.5], ['10 PRO 5G', 8455.5], ['12', 6151.5], ['5.4', 2551.504], ['800 TOUGH', 1510.504], ['XPERIA PRO-I', 11650.5], ['2720 SENIOR', 1610.504], ['X20', 3991.5], ['XR20', 4675.504], ['EDGE 30 PRO', 6511.5], ['12 PRO', 7591.5]]\n"
     ]
    }
   ],
   "source": [
    "# 3. webscrape mobiltelefoners navne og priser fra Telia.dk\n",
    "import re\n",
    "\n",
    "telia_url = 'https://www.telia.dk/privat/webshop/mobiler/?page=4'\n",
    "browser = webdriver.Chrome(options=options)\n",
    "browser.get(telia_url)\n",
    "phoneList_telia = []\n",
    "\n",
    "\n",
    "\n",
    "try:\n",
    "    time.sleep(5)\n",
    "    \n",
    "    button = browser.find_element(by=By.XPATH,value='//*[@id=\"declineButton\"]')\n",
    "    button.click()\n",
    "\n",
    "    main = WebDriverWait(browser,30).until(\n",
    "       EC.presence_of_element_located((By.XPATH,'//*[@id=\"app\"]/main'))\n",
    "    )\n",
    "    phones = main.find_elements(by=By.CLASS_NAME,value='cm-c-product-card-simple__inner')\n",
    "    for phone in phones:\n",
    "        name = phone.find_element(by=By.CLASS_NAME,value='cm-c-product-card-simple__title')\n",
    "        price = phone.find_element(by=By.CLASS_NAME,value='cm-c-product-card-simple__desc')\n",
    "        price = price.text\n",
    "        price = re.findall('[1234567890,]',price)\n",
    "        price = ''.join(price)\n",
    "        price = re.sub(',','.',price)\n",
    "        phoneList_telia.append([name.text, float(price)])\n",
    "    \n",
    "\n",
    "    \n",
    "    print(phoneList_telia)\n",
    "    \n",
    "finally:\n",
    "    browser.quit()\n",
    "\n",
    "    \n",
    "\n"
   ]
  },
  {
   "cell_type": "markdown",
   "metadata": {},
   "source": []
  }
 ],
 "metadata": {
  "kernelspec": {
   "display_name": "Python 3",
   "language": "python",
   "name": "python3"
  },
  "language_info": {
   "codemirror_mode": {
    "name": "ipython",
    "version": 3
   },
   "file_extension": ".py",
   "mimetype": "text/x-python",
   "name": "python",
   "nbconvert_exporter": "python",
   "pygments_lexer": "ipython3",
   "version": "3.7.6"
  }
 },
 "nbformat": 4,
 "nbformat_minor": 4
}
